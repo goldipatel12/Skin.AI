{
  "nbformat": 4,
  "nbformat_minor": 0,
  "metadata": {
    "kernelspec": {
      "display_name": "Python 3",
      "language": "python",
      "name": "python3"
    },
    "language_info": {
      "name": "python",
      "version": "3.6.6",
      "mimetype": "text/x-python",
      "codemirror_mode": {
        "name": "ipython",
        "version": 3
      },
      "pygments_lexer": "ipython3",
      "nbconvert_exporter": "python",
      "file_extension": ".py"
    },
    "colab": {
      "name": "skin-lesion-analyzer-jupyter-notebook.ipynb",
      "provenance": [],
      "collapsed_sections": [
        "zApt_dtK_F_i",
        "McIyCmOP_F_s",
        "Qesral_c_F_y",
        "NIQFgxCV_F_4",
        "3hQn5i0f_GAL",
        "EGpII-Le_GAX",
        "7K82-vsB_GAe",
        "SxnUrBsJ_GAh",
        "y6VqkhKu_GBA",
        "mqI-2MpY_GBD",
        "IHJbyFNc_GBR"
      ]
    }
  },
  "cells": [
    {
      "cell_type": "markdown",
      "metadata": {
        "_uuid": "d6f77793e7ebbcd523899bafaa9dae9763b9a0a5",
        "id": "jqGsIq2a_F-7"
      },
      "source": [
        "**Introduction**\n",
        "\n",
        "I've always wanted to build an end to end ml solution - starting with model creation and ending with a live web app. Here I've managed to do it. Users are able to submit a picture of a skin lesion and get an instant prediction. This kernel details the process I followed to build the model and then convert it from Keras to Tensorflow.js. The javascript, html and css code for the app is available on github. <br>\n",
        "\n",
        "This model classifies skin lesions into seven classes. It is a fine tuned MobileNet CNN. All training was done in this kernel. The main challenges were the unbalanced dataset and the small amount of data.  I used data augmentation to reduce the class imbalance and in so doing get categorical accuracy scores that were not heavily skewed by a single majority class.\n",
        "\n",
        "These were the final results:\n",
        "\n",
        "> validation_top_3_accuracy:              0.9401197575047583<br>\n",
        "> validation_top_2_accuracy:             0.8622754462316127<br>\n",
        "> validation_categorical_accuracy:   0.6616766458291732<br>\n",
        "\n",
        "MobileNet’s small size (approx. 35MB) and speed makes it ideal for web deployment. It’s also a joy to train.\n",
        "\n",
        "Tensorflow.js is a new library that allows machine learning models to run in the browser - without having to download or install any additional software. Because the model is running locally, any data that a user submits never leaves his or her pc or mobile phone. I imagine that privacy is especially important when it comes to medical data.\n",
        "\n",
        "<hr>\n",
        "\n",
        "**What is the objective?**\n",
        "\n",
        "I found it very helpful to define a clear objective right at the start. This helps guide the model selection process. For example, if a model has an accuracy of 60% it would usually be seen as a bad model. However, if it also has a top 3 accuracy of 90% and the objective requires that it output 3 predictions then it may actually be quite a good model. \n",
        "\n",
        "*This is the objective that I defined for this task:*\n",
        "\n",
        "> Create an online tool that can tell doctors and lab technologists the three highest probability diagnoses for a given skin lesion. This will help them quickly identify high priority patients and speed up their workflow. The app should produce a result in less than 3 seconds. To ensure privacy the images must be pre-processed and analysed locally and never be uploaded to an external server.\n"
      ]
    },
    {
      "cell_type": "code",
      "metadata": {
        "trusted": true,
        "_uuid": "371731306c3e504b191979706e826c247def88dc",
        "id": "CKivf_8Y_F-8"
      },
      "source": [
        "from numpy.random import seed\n",
        "seed(101)\n",
        "from tensorflow import set_random_seed\n",
        "set_random_seed(101)\n",
        "\n",
        "import pandas as pd\n",
        "import numpy as np\n",
        "import keras\n",
        "from keras import backend as K\n",
        "from keras.layers.core import Dense, Dropout\n",
        "from keras.optimizers import Adam\n",
        "from keras.metrics import categorical_crossentropy\n",
        "from keras.preprocessing.image import ImageDataGenerator\n",
        "from keras.models import Model\n",
        "from keras.callbacks import EarlyStopping, ReduceLROnPlateau, ModelCheckpoint\n",
        "\n",
        "import os\n",
        "\n",
        "from sklearn.metrics import confusion_matrix\n",
        "from sklearn.model_selection import train_test_split\n",
        "import itertools\n",
        "import shutil\n",
        "import matplotlib.pyplot as plt\n",
        "%matplotlib inline\n"
      ],
      "execution_count": null,
      "outputs": []
    },
    {
      "cell_type": "code",
      "metadata": {
        "trusted": true,
        "_uuid": "dac48f5259e7cb5d31283a662f8ab8e7c1641794",
        "id": "CYf9kQWV_F_A"
      },
      "source": [
        ""
      ],
      "execution_count": null,
      "outputs": []
    },
    {
      "cell_type": "markdown",
      "metadata": {
        "_uuid": "d3f6843b78793e1c047ca6909a7449dc9bfc3f1c",
        "id": "CERvZOec_F_D"
      },
      "source": [
        "**LABELS**<br>\n",
        "\n",
        "Excerpts from the paper:<br>\n",
        "> The HAM10000 Dataset: A Large Collection of Multi-Source Dermatoscopic Images of Common Pigmented Skin Lesions<br>\n",
        "https://arxiv.org/abs/1803.10417\n",
        "\n",
        "\n",
        "\n",
        " **nv**<br>\n",
        " Melanocytic nevi are benign neoplasms of melanocytes and appear in a myriad of variants, which all are included in our series. The variants may differ significantly from a dermatoscopic point of view.<br>\n",
        " *[6705 images]*\n",
        " \n",
        " **mel**<br>\n",
        " Melanoma is a malignant neoplasm derived from melanocytes that may appear in different variants. If excised in an early stage it can be cured by simple surgical excision. Melanomas can be invasive or non-invasive (in situ). We included all variants of melanoma including melanoma in situ, but did exclude non-pigmented, subungual, ocular or mucosal melanoma.<br>*[1113 images]*\n",
        " \n",
        " \n",
        "**bkl**<br>\n",
        " \"Benign keratosis\" is a generic class that includes seborrheic ker- atoses (\"senile wart\"), solar lentigo - which can be regarded a flat variant of seborrheic keratosis - and lichen-planus like keratoses (LPLK), which corresponds to a seborrheic keratosis or a solar lentigo with inflammation\n",
        "and regression [22]. The three subgroups may look different dermatoscop- ically, but we grouped them together because they are similar biologically and often reported under the same generic term histopathologically. From a dermatoscopic view, lichen planus-like keratoses are especially challeng- ing because they can show morphologic features mimicking melanoma [23] and are often biopsied or excised for diagnostic reasons.<br>\n",
        "*[1099 images]*\n",
        "\n",
        "**bcc**<br>\n",
        "Basal cell carcinoma is a common variant of epithelial skin cancer that rarely metastasizes but grows destructively if untreated. It appears in different morphologic variants (flat, nodular, pigmented, cystic, etc) [21], which are all included in this set.<br>\n",
        "*[514 images]*\n",
        " \n",
        "**akiec**<br>\n",
        "Actinic Keratoses (Solar Keratoses) and intraepithelial Carcinoma (Bowen’s disease) are common non-invasive, variants of squamous cell car- cinoma that can be treated locally without surgery. Some authors regard them as precursors of squamous cell carcinomas and not as actual carci- nomas. There is, however, agreement that these lesions may progress to invasive squamous cell carcinoma - which is usually not pigmented. Both neoplasms commonly show surface scaling and commonly are devoid of pigment. Actinic keratoses are more common on the face and Bowen’s disease is more common on other body sites. Because both types are in- duced by UV-light the surrounding skin is usually typified by severe sun damaged except in cases of Bowen’s disease that are caused by human papilloma virus infection and not by UV. Pigmented variants exists for Bowen’s disease [19] and for actinic keratoses [20]. Both are included in this set.<br>*[327 images]*\n",
        "\n",
        "\n",
        "**vasc**<br>\n",
        "Vascular skin lesions in the dataset range from cherry angiomas to angiokeratomas [25] and pyogenic granulomas [26]. Hemorrhage is also included in this category.<br>\n",
        "*[142 images]*\n",
        "\n",
        "**df**<br>\n",
        "Dermatofibroma is a benign skin lesion regarded as either a benign proliferation or an inflammatory reaction to minimal trauma. It is brown often showing a central zone of fibrosis dermatoscopically [24].<br>*[115 images]*\n",
        "\n",
        "\n",
        "<br>*[Total images = 10015]*"
      ]
    },
    {
      "cell_type": "code",
      "metadata": {
        "trusted": true,
        "_uuid": "d5a0a200bfc57c5489eaa930255d9420a7d01c47",
        "id": "n6yTaDAc_F_D"
      },
      "source": [
        "os.listdir('../input')"
      ],
      "execution_count": null,
      "outputs": []
    },
    {
      "cell_type": "markdown",
      "metadata": {
        "_uuid": "086162161ba405b800863e7d545b5917e5205984",
        "id": "GHGJkyXK_F_G"
      },
      "source": [
        "### Create the directory structure\n",
        "\n",
        "In these folders we will store the images that will later be fed to the Keras generators. "
      ]
    },
    {
      "cell_type": "code",
      "metadata": {
        "trusted": true,
        "_uuid": "d24ef21f9f2359b8bf6b3e7a0b8ab5a43daaf566",
        "id": "iltu7F1E_F_H"
      },
      "source": [
        "\n",
        "\n",
        "# Create a new directory\n",
        "base_dir = 'base_dir'\n",
        "os.mkdir(base_dir)\n",
        "\n",
        "\n",
        "#[CREATE FOLDERS INSIDE THE BASE DIRECTORY]\n",
        "\n",
        "# now we create 7 folders inside 'base_dir':\n",
        "\n",
        "# train\n",
        "    # nv\n",
        "    # mel\n",
        "    # bkl\n",
        "    # bcc\n",
        "    # akiec\n",
        "    # vasc\n",
        "    # df\n",
        " \n",
        "# val\n",
        "    # nv\n",
        "    # mel\n",
        "    # bkl\n",
        "    # bcc\n",
        "    # akiec\n",
        "    # vasc\n",
        "    # df\n",
        "\n",
        "# create a path to 'base_dir' to which we will join the names of the new folders\n",
        "# train_dir\n",
        "train_dir = os.path.join(base_dir, 'train_dir')\n",
        "os.mkdir(train_dir)\n",
        "\n",
        "# val_dir\n",
        "val_dir = os.path.join(base_dir, 'val_dir')\n",
        "os.mkdir(val_dir)\n",
        "\n",
        "\n",
        "# [CREATE FOLDERS INSIDE THE TRAIN, VALIDATION AND TEST FOLDERS]\n",
        "# Inside each folder we create seperate folders for each class\n",
        "\n",
        "# create new folders inside train_dir\n",
        "nv = os.path.join(train_dir, 'nv')\n",
        "os.mkdir(nv)\n",
        "mel = os.path.join(train_dir, 'mel')\n",
        "os.mkdir(mel)\n",
        "bkl = os.path.join(train_dir, 'bkl')\n",
        "os.mkdir(bkl)\n",
        "bcc = os.path.join(train_dir, 'bcc')\n",
        "os.mkdir(bcc)\n",
        "akiec = os.path.join(train_dir, 'akiec')\n",
        "os.mkdir(akiec)\n",
        "vasc = os.path.join(train_dir, 'vasc')\n",
        "os.mkdir(vasc)\n",
        "df = os.path.join(train_dir, 'df')\n",
        "os.mkdir(df)\n",
        "\n",
        "\n",
        "\n",
        "# create new folders inside val_dir\n",
        "nv = os.path.join(val_dir, 'nv')\n",
        "os.mkdir(nv)\n",
        "mel = os.path.join(val_dir, 'mel')\n",
        "os.mkdir(mel)\n",
        "bkl = os.path.join(val_dir, 'bkl')\n",
        "os.mkdir(bkl)\n",
        "bcc = os.path.join(val_dir, 'bcc')\n",
        "os.mkdir(bcc)\n",
        "akiec = os.path.join(val_dir, 'akiec')\n",
        "os.mkdir(akiec)\n",
        "vasc = os.path.join(val_dir, 'vasc')\n",
        "os.mkdir(vasc)\n",
        "df = os.path.join(val_dir, 'df')\n",
        "os.mkdir(df)\n",
        "\n"
      ],
      "execution_count": null,
      "outputs": []
    },
    {
      "cell_type": "markdown",
      "metadata": {
        "_uuid": "4ae8d37fdee293aaffa71a79019dd7277f8288fc",
        "id": "qAMs8Ril_F_K"
      },
      "source": [
        "### Create Train and Val Sets"
      ]
    },
    {
      "cell_type": "code",
      "metadata": {
        "trusted": true,
        "_uuid": "268503398ef61904e05a2c0b0667d589f08a19a8",
        "id": "vk7cYvID_F_K"
      },
      "source": [
        "df_data = pd.read_csv('../input/HAM10000_metadata.csv')\n",
        "\n",
        "df_data.head()"
      ],
      "execution_count": null,
      "outputs": []
    },
    {
      "cell_type": "code",
      "metadata": {
        "trusted": true,
        "_uuid": "df735da903622942a61e08391b3c86d6dcdb266f",
        "id": "pkKejHtF_F_N"
      },
      "source": [
        "#X = df_data.drop('dx', axis=1)\n",
        "y = df_data['dx']\n",
        "\n",
        "df_train, df_val = train_test_split(df_data, test_size=0.1, random_state=101, stratify=y)\n",
        "\n",
        "print(df_train.shape)\n",
        "print(df_val.shape)"
      ],
      "execution_count": null,
      "outputs": []
    },
    {
      "cell_type": "code",
      "metadata": {
        "trusted": true,
        "_uuid": "4b976a9018b1bd2dc0522c68339c5861534a1571",
        "id": "f9H1wRHr_F_Q"
      },
      "source": [
        "df_train['dx'].value_counts()"
      ],
      "execution_count": null,
      "outputs": []
    },
    {
      "cell_type": "code",
      "metadata": {
        "trusted": true,
        "_uuid": "1581d5a3e86f9673ae175102112017e30229bc37",
        "id": "7G7zcuE8_F_U"
      },
      "source": [
        "df_val['dx'].value_counts()"
      ],
      "execution_count": null,
      "outputs": []
    },
    {
      "cell_type": "markdown",
      "metadata": {
        "_uuid": "8812ad87c4fa18d2d82497df42c3895c7f10bc39",
        "id": "OhJrf0zq_F_X"
      },
      "source": [
        "### Transfer the Images into the Folders"
      ]
    },
    {
      "cell_type": "code",
      "metadata": {
        "trusted": true,
        "_uuid": "4acee2b7879762e50b52df118a9b691515fe7ac0",
        "id": "H6bChfhA_F_X"
      },
      "source": [
        "# Set the image_id as the index in df_data\n",
        "df_data.set_index('image_id', inplace=True)"
      ],
      "execution_count": null,
      "outputs": []
    },
    {
      "cell_type": "code",
      "metadata": {
        "trusted": true,
        "_uuid": "eca02fbf066c8124d0cb465295bbd2593f5f045a",
        "id": "HbYsLNA3_F_a"
      },
      "source": [
        "# Get a list of images in each of the two folders\n",
        "folder_1 = os.listdir('../input/ham10000_images_part_1')\n",
        "folder_2 = os.listdir('../input/ham10000_images_part_2')\n",
        "\n",
        "# Get a list of train and val images\n",
        "train_list = list(df_train['image_id'])\n",
        "val_list = list(df_val['image_id'])\n",
        "\n",
        "\n",
        "\n",
        "# Transfer the train images\n",
        "\n",
        "for image in train_list:\n",
        "    \n",
        "    fname = image + '.jpg'\n",
        "    label = df_data.loc[image,'dx']\n",
        "    \n",
        "    if fname in folder_1:\n",
        "        # source path to image\n",
        "        src = os.path.join('../input/ham10000_images_part_1', fname)\n",
        "        # destination path to image\n",
        "        dst = os.path.join(train_dir, label, fname)\n",
        "        # copy the image from the source to the destination\n",
        "        shutil.copyfile(src, dst)\n",
        "\n",
        "    if fname in folder_2:\n",
        "        # source path to image\n",
        "        src = os.path.join('../input/ham10000_images_part_2', fname)\n",
        "        # destination path to image\n",
        "        dst = os.path.join(train_dir, label, fname)\n",
        "        # copy the image from the source to the destination\n",
        "        shutil.copyfile(src, dst)\n",
        "\n",
        "\n",
        "# Transfer the val images\n",
        "\n",
        "for image in val_list:\n",
        "    \n",
        "    fname = image + '.jpg'\n",
        "    label = df_data.loc[image,'dx']\n",
        "    \n",
        "    if fname in folder_1:\n",
        "        # source path to image\n",
        "        src = os.path.join('../input/ham10000_images_part_1', fname)\n",
        "        # destination path to image\n",
        "        dst = os.path.join(val_dir, label, fname)\n",
        "        # copy the image from the source to the destination\n",
        "        shutil.copyfile(src, dst)\n",
        "\n",
        "    if fname in folder_2:\n",
        "        # source path to image\n",
        "        src = os.path.join('../input/ham10000_images_part_2', fname)\n",
        "        # destination path to image\n",
        "        dst = os.path.join(val_dir, label, fname)\n",
        "        # copy the image from the source to the destination\n",
        "        shutil.copyfile(src, dst)\n",
        "        "
      ],
      "execution_count": null,
      "outputs": []
    },
    {
      "cell_type": "code",
      "metadata": {
        "trusted": true,
        "_uuid": "5a4847c4cc799c23e57bf2531d92117cb95e1b07",
        "id": "uxmzkDXZ_F_d"
      },
      "source": [
        "# check how many train images we have in each folder\n",
        "\n",
        "print(len(os.listdir('base_dir/train_dir/nv')))\n",
        "print(len(os.listdir('base_dir/train_dir/mel')))\n",
        "print(len(os.listdir('base_dir/train_dir/bkl')))\n",
        "print(len(os.listdir('base_dir/train_dir/bcc')))\n",
        "print(len(os.listdir('base_dir/train_dir/akiec')))\n",
        "print(len(os.listdir('base_dir/train_dir/vasc')))\n",
        "print(len(os.listdir('base_dir/train_dir/df')))"
      ],
      "execution_count": null,
      "outputs": []
    },
    {
      "cell_type": "code",
      "metadata": {
        "trusted": true,
        "_uuid": "fd05c08cbfa00418dc333f5b67d1ff6e98aa973e",
        "id": "Yqsl_lYB_F_g"
      },
      "source": [
        "# check how many val images we have in each folder\n",
        "\n",
        "print(len(os.listdir('base_dir/val_dir/nv')))\n",
        "print(len(os.listdir('base_dir/val_dir/mel')))\n",
        "print(len(os.listdir('base_dir/val_dir/bkl')))\n",
        "print(len(os.listdir('base_dir/val_dir/bcc')))\n",
        "print(len(os.listdir('base_dir/val_dir/akiec')))\n",
        "print(len(os.listdir('base_dir/val_dir/vasc')))\n",
        "print(len(os.listdir('base_dir/val_dir/df')))"
      ],
      "execution_count": null,
      "outputs": []
    },
    {
      "cell_type": "markdown",
      "metadata": {
        "_uuid": "cebcb5242ff542efb03be5086bf3796bea70c591",
        "id": "zApt_dtK_F_i"
      },
      "source": [
        "### Copy the train images  into aug_dir"
      ]
    },
    {
      "cell_type": "code",
      "metadata": {
        "trusted": true,
        "_uuid": "8fe970d74e9d5a284420af4ad37d8aae89dc1c15",
        "id": "8vRJYh2E_F_j"
      },
      "source": [
        "# note that we are not augmenting class 'nv'\n",
        "class_list = ['mel','bkl','bcc','akiec','vasc','df']\n",
        "\n",
        "for item in class_list:\n",
        "    \n",
        "    # We are creating temporary directories here because we delete these directories later\n",
        "    # create a base dir\n",
        "    aug_dir = 'aug_dir'\n",
        "    os.mkdir(aug_dir)\n",
        "    # create a dir within the base dir to store images of the same class\n",
        "    img_dir = os.path.join(aug_dir, 'img_dir')\n",
        "    os.mkdir(img_dir)\n",
        "\n",
        "    # Choose a class\n",
        "    img_class = item\n",
        "\n",
        "    # list all images in that directory\n",
        "    img_list = os.listdir('base_dir/train_dir/' + img_class)\n",
        "\n",
        "    # Copy images from the class train dir to the img_dir e.g. class 'mel'\n",
        "    for fname in img_list:\n",
        "            # source path to image\n",
        "            src = os.path.join('base_dir/train_dir/' + img_class, fname)\n",
        "            # destination path to image\n",
        "            dst = os.path.join(img_dir, fname)\n",
        "            # copy the image from the source to the destination\n",
        "            shutil.copyfile(src, dst)\n",
        "\n",
        "\n",
        "    # point to a dir containing the images and not to the images themselves\n",
        "    path = aug_dir\n",
        "    save_path = 'base_dir/train_dir/' + img_class\n",
        "\n",
        "    # Create a data generator\n",
        "    datagen = ImageDataGenerator(\n",
        "        rotation_range=180,\n",
        "        width_shift_range=0.1,\n",
        "        height_shift_range=0.1,\n",
        "        zoom_range=0.1,\n",
        "        horizontal_flip=True,\n",
        "        vertical_flip=True,\n",
        "        #brightness_range=(0.9,1.1),\n",
        "        fill_mode='nearest')\n",
        "\n",
        "    batch_size = 50\n",
        "\n",
        "    aug_datagen = datagen.flow_from_directory(path,\n",
        "                                           save_to_dir=save_path,\n",
        "                                           save_format='jpg',\n",
        "                                                    target_size=(224,224),\n",
        "                                                    batch_size=batch_size)\n",
        "\n",
        "\n",
        "\n",
        "    # Generate the augmented images and add them to the training folders\n",
        "    \n",
        "    ###########\n",
        "    \n",
        "    num_aug_images_wanted = 6000 # total number of images we want to have in each class\n",
        "    \n",
        "    ###########\n",
        "    \n",
        "    num_files = len(os.listdir(img_dir))\n",
        "    num_batches = int(np.ceil((num_aug_images_wanted-num_files)/batch_size))\n",
        "\n",
        "    # run the generator and create about 6000 augmented images\n",
        "    for i in range(0,num_batches):\n",
        "\n",
        "        imgs, labels = next(aug_datagen)\n",
        "        \n",
        "    # delete temporary directory with the raw image files\n",
        "    shutil.rmtree('aug_dir')"
      ],
      "execution_count": null,
      "outputs": []
    },
    {
      "cell_type": "code",
      "metadata": {
        "trusted": true,
        "_uuid": "b9bbc56bd25441150d2430dca2b07d8ebae57d95",
        "id": "Tt59wtTs_F_m"
      },
      "source": [
        "# Check how many train images we now have in each folder.\n",
        "# This is the original images plus the augmented images.\n",
        "\n",
        "print(len(os.listdir('base_dir/train_dir/nv')))\n",
        "print(len(os.listdir('base_dir/train_dir/mel')))\n",
        "print(len(os.listdir('base_dir/train_dir/bkl')))\n",
        "print(len(os.listdir('base_dir/train_dir/bcc')))\n",
        "print(len(os.listdir('base_dir/train_dir/akiec')))\n",
        "print(len(os.listdir('base_dir/train_dir/vasc')))\n",
        "print(len(os.listdir('base_dir/train_dir/df')))"
      ],
      "execution_count": null,
      "outputs": []
    },
    {
      "cell_type": "code",
      "metadata": {
        "trusted": true,
        "_uuid": "21de03bdc63ecf78cc061d364d14d3216a544b43",
        "id": "UmeZYrx5_F_p"
      },
      "source": [
        "# Check how many val images we have in each folder.\n",
        "\n",
        "print(len(os.listdir('base_dir/val_dir/nv')))\n",
        "print(len(os.listdir('base_dir/val_dir/mel')))\n",
        "print(len(os.listdir('base_dir/val_dir/bkl')))\n",
        "print(len(os.listdir('base_dir/val_dir/bcc')))\n",
        "print(len(os.listdir('base_dir/val_dir/akiec')))\n",
        "print(len(os.listdir('base_dir/val_dir/vasc')))\n",
        "print(len(os.listdir('base_dir/val_dir/df')))"
      ],
      "execution_count": null,
      "outputs": []
    },
    {
      "cell_type": "markdown",
      "metadata": {
        "_uuid": "767cb7d35e301369f020cdbb705da1620ba8e594",
        "id": "McIyCmOP_F_s"
      },
      "source": [
        "### Visualize 50 augmented images"
      ]
    },
    {
      "cell_type": "code",
      "metadata": {
        "trusted": true,
        "_uuid": "5f0e13a8455af926fe449e1b3ea818b704724202",
        "id": "VRSb8vgI_F_s"
      },
      "source": [
        "# plots images with labels within jupyter notebook\n",
        "# source: https://github.com/smileservices/keras_utils/blob/master/utils.py\n",
        "\n",
        "def plots(ims, figsize=(12,6), rows=5, interp=False, titles=None): # 12,6\n",
        "    if type(ims[0]) is np.ndarray:\n",
        "        ims = np.array(ims).astype(np.uint8)\n",
        "        if (ims.shape[-1] != 3):\n",
        "            ims = ims.transpose((0,2,3,1))\n",
        "    f = plt.figure(figsize=figsize)\n",
        "    cols = len(ims)//rows if len(ims) % 2 == 0 else len(ims)//rows + 1\n",
        "    for i in range(len(ims)):\n",
        "        sp = f.add_subplot(rows, cols, i+1)\n",
        "        sp.axis('Off')\n",
        "        if titles is not None:\n",
        "            sp.set_title(titles[i], fontsize=16)\n",
        "        plt.imshow(ims[i], interpolation=None if interp else 'none')\n",
        "        \n",
        "plots(imgs, titles=None) # titles=labels will display the image labels"
      ],
      "execution_count": null,
      "outputs": []
    },
    {
      "cell_type": "code",
      "metadata": {
        "trusted": true,
        "_uuid": "c3e2126a39c06568a1f95da2ab42353447d1be20",
        "id": "9O7ORxxt_F_v"
      },
      "source": [
        "# End of Data Preparation\n",
        "### ===================================================================================== ###\n",
        "# Start of Model Building"
      ],
      "execution_count": null,
      "outputs": []
    },
    {
      "cell_type": "markdown",
      "metadata": {
        "trusted": true,
        "_uuid": "32dad10b7c104d2baa972da8cbadc7d6038af05c",
        "id": "Qesral_c_F_y"
      },
      "source": [
        "### Set Up the Generators"
      ]
    },
    {
      "cell_type": "code",
      "metadata": {
        "trusted": true,
        "_uuid": "aa1041d69b0e8313324b91e3e9475799e1ad61c2",
        "id": "EbbnvPNx_F_y"
      },
      "source": [
        "train_path = 'base_dir/train_dir'\n",
        "valid_path = 'base_dir/val_dir'\n",
        "\n",
        "num_train_samples = len(df_train)\n",
        "num_val_samples = len(df_val)\n",
        "train_batch_size = 10\n",
        "val_batch_size = 10\n",
        "image_size = 224\n",
        "\n",
        "train_steps = np.ceil(num_train_samples / train_batch_size)\n",
        "val_steps = np.ceil(num_val_samples / val_batch_size)\n"
      ],
      "execution_count": null,
      "outputs": []
    },
    {
      "cell_type": "code",
      "metadata": {
        "trusted": true,
        "_uuid": "d0e5aede7139196b0d4e1344b278e7621f005550",
        "id": "gd7-O0te_F_1"
      },
      "source": [
        "\n",
        "train_batches = ImageDataGenerator(\n",
        "    preprocessing_function= \\\n",
        "    keras.applications.mobilenet.preprocess_input).flow_from_directory(\n",
        "                                                    train_path,\n",
        "                                                    target_size=(image_size,image_size),\n",
        "                                                    batch_size=train_batch_size)\n",
        "valid_batches = ImageDataGenerator(\n",
        "    preprocessing_function= \\\n",
        "    keras.applications.mobilenet.preprocess_input).flow_from_directory(\n",
        "                                                    valid_path,\n",
        "                                                    target_size=(image_size,image_size),\n",
        "                                                    batch_size=val_batch_size)\n",
        "\n",
        "# Note: shuffle=False causes the test dataset to not be shuffled\n",
        "test_batches = ImageDataGenerator(\n",
        "    preprocessing_function= \\\n",
        "    keras.applications.mobilenet.preprocess_input).flow_from_directory(\n",
        "                                                    valid_path,\n",
        "                                                    target_size=(image_size,image_size),\n",
        "                                                    batch_size=val_batch_size,\n",
        "                                                    shuffle=False)"
      ],
      "execution_count": null,
      "outputs": []
    },
    {
      "cell_type": "markdown",
      "metadata": {
        "_uuid": "8ee4ee41f1b16083bd9fc20ee9dec40acccc97dd",
        "id": "NIQFgxCV_F_4"
      },
      "source": [
        "### Modify MobileNet Model"
      ]
    },
    {
      "cell_type": "code",
      "metadata": {
        "trusted": true,
        "_uuid": "ad582cb8ea0ca2d563fc367aa89b7edfafc1a57f",
        "id": "yVVXEYAV_F_4"
      },
      "source": [
        "# create a copy of a mobilenet model\n",
        "\n",
        "mobile = keras.applications.mobilenet.MobileNet()"
      ],
      "execution_count": null,
      "outputs": []
    },
    {
      "cell_type": "code",
      "metadata": {
        "trusted": true,
        "_uuid": "960449ec7ecdda92ba733ad23b00b7be605f3d4b",
        "_kg_hide-output": true,
        "id": "9JlZMqZj_F_7"
      },
      "source": [
        "mobile.summary()"
      ],
      "execution_count": null,
      "outputs": []
    },
    {
      "cell_type": "code",
      "metadata": {
        "trusted": true,
        "_uuid": "5b7922bdf625675834d9b63ec0e85351bd9f3c0f",
        "id": "CZ-2IYlc_F_9"
      },
      "source": [
        "type(mobile.layers)"
      ],
      "execution_count": null,
      "outputs": []
    },
    {
      "cell_type": "code",
      "metadata": {
        "trusted": true,
        "_uuid": "f832e5865c65a013a06dbf5d500c0381020c56d5",
        "id": "gdOJ3_d2_GAA"
      },
      "source": [
        "# How many layers does MobileNet have?\n",
        "len(mobile.layers)"
      ],
      "execution_count": null,
      "outputs": []
    },
    {
      "cell_type": "code",
      "metadata": {
        "trusted": true,
        "_uuid": "4dd9dcf26d85a57a113e6b158cf8fceeca7f99de",
        "id": "Npx7CwM0_GAD"
      },
      "source": [
        "# CREATE THE MODEL ARCHITECTURE\n",
        "\n",
        "# Exclude the last 5 layers of the above model.\n",
        "# This will include all layers up to and including global_average_pooling2d_1\n",
        "x = mobile.layers[-6].output\n",
        "\n",
        "# Create a new dense layer for predictions\n",
        "# 7 corresponds to the number of classes\n",
        "x = Dropout(0.25)(x)\n",
        "predictions = Dense(7, activation='softmax')(x)\n",
        "\n",
        "# inputs=mobile.input selects the input layer, outputs=predictions refers to the\n",
        "# dense layer we created above.\n",
        "\n",
        "model = Model(inputs=mobile.input, outputs=predictions)"
      ],
      "execution_count": null,
      "outputs": []
    },
    {
      "cell_type": "code",
      "metadata": {
        "trusted": true,
        "_uuid": "b38734b72afc4289ab187a9e683cbda6bf3269bc",
        "_kg_hide-output": true,
        "id": "YgUm_SzS_GAG"
      },
      "source": [
        "model.summary()"
      ],
      "execution_count": null,
      "outputs": []
    },
    {
      "cell_type": "code",
      "metadata": {
        "trusted": true,
        "_uuid": "a9d74e44630c3d07a596460c8fbfda3ae7cae1e9",
        "id": "oePQpNJg_GAJ"
      },
      "source": [
        "# We need to choose how many layers we actually want to be trained.\n",
        "\n",
        "# Here we are freezing the weights of all layers except the\n",
        "# last 23 layers in the new model.\n",
        "# The last 23 layers of the model will be trained.\n",
        "\n",
        "for layer in model.layers[:-23]:\n",
        "    layer.trainable = False"
      ],
      "execution_count": null,
      "outputs": []
    },
    {
      "cell_type": "markdown",
      "metadata": {
        "_uuid": "13cf63a53e5195cb8a9725d2506c71108bc478b9",
        "id": "3hQn5i0f_GAL"
      },
      "source": [
        "### Train the Model"
      ]
    },
    {
      "cell_type": "code",
      "metadata": {
        "trusted": true,
        "_uuid": "915f30a4f5ad369713bcb8e3bfa438219d6c8ef7",
        "id": "eRayBkMk_GAM"
      },
      "source": [
        "# Define Top2 and Top3 Accuracy\n",
        "\n",
        "from tensorflow.keras.metrics import categorical_accuracy, top_k_categorical_accuracy\n",
        "\n",
        "def top_3_accuracy(y_true, y_pred):\n",
        "    return top_k_categorical_accuracy(y_true, y_pred, k=3)\n",
        "\n",
        "def top_2_accuracy(y_true, y_pred):\n",
        "    return top_k_categorical_accuracy(y_true, y_pred, k=2)"
      ],
      "execution_count": null,
      "outputs": []
    },
    {
      "cell_type": "code",
      "metadata": {
        "trusted": true,
        "_uuid": "2013ff1abae70fed845af94e7ab3d95cefad0d61",
        "id": "UveoXCAu_GAO"
      },
      "source": [
        "model.compile(Adam(lr=0.01), loss='categorical_crossentropy', \n",
        "              metrics=[categorical_accuracy, top_2_accuracy, top_3_accuracy])\n",
        "\n"
      ],
      "execution_count": null,
      "outputs": []
    },
    {
      "cell_type": "code",
      "metadata": {
        "trusted": true,
        "_uuid": "62e7a784a33d4c868f49a3ef1f9acbc7186e3338",
        "id": "S51-L9q5_GAQ"
      },
      "source": [
        "# Get the labels that are associated with each index\n",
        "print(valid_batches.class_indices)"
      ],
      "execution_count": null,
      "outputs": []
    },
    {
      "cell_type": "code",
      "metadata": {
        "trusted": true,
        "_uuid": "3001857c9a3c2b15c2343627e340eb1ae858fae9",
        "id": "tziMloJs_GAT"
      },
      "source": [
        "# Add weights to try to make the model more sensitive to melanoma\n",
        "\n",
        "class_weights={\n",
        "    0: 1.0, # akiec\n",
        "    1: 1.0, # bcc\n",
        "    2: 1.0, # bkl\n",
        "    3: 1.0, # df\n",
        "    4: 3.0, # mel # Try to make the model more sensitive to Melanoma.\n",
        "    5: 1.0, # nv\n",
        "    6: 1.0, # vasc\n",
        "}"
      ],
      "execution_count": null,
      "outputs": []
    },
    {
      "cell_type": "code",
      "metadata": {
        "trusted": true,
        "_uuid": "4a5e3bc3cf44f1d4326c34ad880a302ba082e9d5",
        "scrolled": false,
        "_kg_hide-output": true,
        "id": "O2_UkjrS_GAV"
      },
      "source": [
        "\n",
        "filepath = \"model.h5\"\n",
        "checkpoint = ModelCheckpoint(filepath, monitor='val_top_3_accuracy', verbose=1, \n",
        "                             save_best_only=True, mode='max')\n",
        "\n",
        "reduce_lr = ReduceLROnPlateau(monitor='val_top_3_accuracy', factor=0.5, patience=2, \n",
        "                                   verbose=1, mode='max', min_lr=0.00001)\n",
        "                              \n",
        "                              \n",
        "callbacks_list = [checkpoint, reduce_lr]\n",
        "\n",
        "history = model.fit_generator(train_batches, steps_per_epoch=train_steps, \n",
        "                              class_weight=class_weights,\n",
        "                    validation_data=valid_batches,\n",
        "                    validation_steps=val_steps,\n",
        "                    epochs=30, verbose=1,\n",
        "                   callbacks=callbacks_list)\n"
      ],
      "execution_count": null,
      "outputs": []
    },
    {
      "cell_type": "markdown",
      "metadata": {
        "_uuid": "c3e43e3f2943db4be9d75831fe23661ae9deb44b",
        "id": "EGpII-Le_GAX"
      },
      "source": [
        "### Evaluate the model using the val set"
      ]
    },
    {
      "cell_type": "code",
      "metadata": {
        "trusted": true,
        "_uuid": "710ee26097924153647ac432c8ade29383fe42f1",
        "id": "0hC0Tlch_GAY"
      },
      "source": [
        "# get the metric names so we can use evaulate_generator\n",
        "model.metrics_names"
      ],
      "execution_count": null,
      "outputs": []
    },
    {
      "cell_type": "code",
      "metadata": {
        "trusted": true,
        "_uuid": "68603a5e8cb5e507db95074a07b552a61fa48e11",
        "id": "eT9Kkzx2_GAa"
      },
      "source": [
        "# Here the the last epoch will be used.\n",
        "\n",
        "val_loss, val_cat_acc, val_top_2_acc, val_top_3_acc = \\\n",
        "model.evaluate_generator(test_batches, \n",
        "                        steps=val_steps)\n",
        "\n",
        "print('val_loss:', val_loss)\n",
        "print('val_cat_acc:', val_cat_acc)\n",
        "print('val_top_2_acc:', val_top_2_acc)\n",
        "print('val_top_3_acc:', val_top_3_acc)"
      ],
      "execution_count": null,
      "outputs": []
    },
    {
      "cell_type": "code",
      "metadata": {
        "trusted": true,
        "_uuid": "897f066da922d81fefa165a6b911a741c52ef7f5",
        "id": "cG-e3Ufs_GAc"
      },
      "source": [
        "# Here the best epoch will be used.\n",
        "\n",
        "model.load_weights('model.h5')\n",
        "\n",
        "val_loss, val_cat_acc, val_top_2_acc, val_top_3_acc = \\\n",
        "model.evaluate_generator(test_batches, \n",
        "                        steps=val_steps)\n",
        "\n",
        "print('val_loss:', val_loss)\n",
        "print('val_cat_acc:', val_cat_acc)\n",
        "print('val_top_2_acc:', val_top_2_acc)\n",
        "print('val_top_3_acc:', val_top_3_acc)"
      ],
      "execution_count": null,
      "outputs": []
    },
    {
      "cell_type": "markdown",
      "metadata": {
        "_uuid": "c3fffba5e0aa9088cda1865c7b8d75d72c20d0f6",
        "id": "7K82-vsB_GAe"
      },
      "source": [
        "### Plot the Training Curves"
      ]
    },
    {
      "cell_type": "code",
      "metadata": {
        "trusted": true,
        "_uuid": "0cbd11ef4286a751ef2918361af035d356f341ae",
        "id": "Q_L-LwZj_GAe"
      },
      "source": [
        "# display the loss and accuracy curves\n",
        "\n",
        "import matplotlib.pyplot as plt\n",
        "\n",
        "acc = history.history['categorical_accuracy']\n",
        "val_acc = history.history['val_categorical_accuracy']\n",
        "loss = history.history['loss']\n",
        "val_loss = history.history['val_loss']\n",
        "train_top2_acc = history.history['top_2_accuracy']\n",
        "val_top2_acc = history.history['val_top_2_accuracy']\n",
        "train_top3_acc = history.history['top_3_accuracy']\n",
        "val_top3_acc = history.history['val_top_3_accuracy']\n",
        "epochs = range(1, len(acc) + 1)\n",
        "\n",
        "plt.plot(epochs, loss, 'bo', label='Training loss')\n",
        "plt.plot(epochs, val_loss, 'b', label='Validation loss')\n",
        "plt.title('Training and validation loss')\n",
        "plt.legend()\n",
        "plt.figure()\n",
        "\n",
        "plt.plot(epochs, acc, 'bo', label='Training cat acc')\n",
        "plt.plot(epochs, val_acc, 'b', label='Validation cat acc')\n",
        "plt.title('Training and validation cat accuracy')\n",
        "plt.legend()\n",
        "plt.figure()\n",
        "\n",
        "\n",
        "plt.plot(epochs, train_top2_acc, 'bo', label='Training top2 acc')\n",
        "plt.plot(epochs, val_top2_acc, 'b', label='Validation top2 acc')\n",
        "plt.title('Training and validation top2 accuracy')\n",
        "plt.legend()\n",
        "plt.figure()\n",
        "plt.plot(epochs, train_top3_acc, 'bo', label='Training top3 acc')\n",
        "plt.plot(epochs, val_top3_acc, 'b', label='Validation top3 acc')\n",
        "plt.title('Training and validation top3 accuracy')\n",
        "plt.legend()\n",
        "\n",
        "\n",
        "plt.show()"
      ],
      "execution_count": null,
      "outputs": []
    },
    {
      "cell_type": "markdown",
      "metadata": {
        "_uuid": "4204e4056c8d12c1fee72b97912879cad4ee483f",
        "id": "SxnUrBsJ_GAh"
      },
      "source": [
        "### Create a Confusion Matrix"
      ]
    },
    {
      "cell_type": "code",
      "metadata": {
        "trusted": true,
        "_uuid": "74a66905f7a2d702f3d2aad9abf9fe114b96f0ff",
        "id": "YFvfj3pA_GAh"
      },
      "source": [
        "# Get the labels of the test images.\n",
        "# Note that cats and dogs are in seperate folders therefore\n",
        "# the code below can get the labels depending on the folder the image is in.\n",
        "\n",
        "test_labels = test_batches.classes"
      ],
      "execution_count": null,
      "outputs": []
    },
    {
      "cell_type": "code",
      "metadata": {
        "trusted": true,
        "_uuid": "53f4b22617285e923f336cdb2ffcbe1f9ff5e5db",
        "id": "ab_ZrJPi_GAj"
      },
      "source": [
        "# We need these to plot the confusion matrix.\n",
        "test_labels"
      ],
      "execution_count": null,
      "outputs": []
    },
    {
      "cell_type": "code",
      "metadata": {
        "trusted": true,
        "_uuid": "d5113e039e8384b96595751e084f0c5ed677080a",
        "id": "PhG8wBF2_GAm"
      },
      "source": [
        "# Print the label associated with each class\n",
        "test_batches.class_indices"
      ],
      "execution_count": null,
      "outputs": []
    },
    {
      "cell_type": "code",
      "metadata": {
        "trusted": true,
        "_uuid": "701dafc5874aa60a054a74c04170cb7e8d750e94",
        "id": "SX6fxSga_GAo"
      },
      "source": [
        "# make a prediction\n",
        "predictions = model.predict_generator(test_batches, steps=val_steps, verbose=1)"
      ],
      "execution_count": null,
      "outputs": []
    },
    {
      "cell_type": "code",
      "metadata": {
        "trusted": true,
        "_uuid": "dcce17ac0488ff90d29b11592c9226ed1bb210fb",
        "id": "cVwEjZYd_GAt"
      },
      "source": [
        "predictions.shape"
      ],
      "execution_count": null,
      "outputs": []
    },
    {
      "cell_type": "code",
      "metadata": {
        "trusted": true,
        "_uuid": "7cfd9bdbbd27e27d9c5de7c6593527686445ea89",
        "id": "EJRmrtgm_GAw"
      },
      "source": [
        "# Source: Scikit Learn website\n",
        "# http://scikit-learn.org/stable/auto_examples/\n",
        "# model_selection/plot_confusion_matrix.html#sphx-glr-auto-examples-model-\n",
        "# selection-plot-confusion-matrix-py\n",
        "\n",
        "\n",
        "def plot_confusion_matrix(cm, classes,\n",
        "                          normalize=False,\n",
        "                          title='Confusion matrix',\n",
        "                          cmap=plt.cm.Blues):\n",
        "    \"\"\"\n",
        "    This function prints and plots the confusion matrix.\n",
        "    Normalization can be applied by setting `normalize=True`.\n",
        "    \"\"\"\n",
        "    if normalize:\n",
        "        cm = cm.astype('float') / cm.sum(axis=1)[:, np.newaxis]\n",
        "        print(\"Normalized confusion matrix\")\n",
        "    else:\n",
        "        print('Confusion matrix, without normalization')\n",
        "\n",
        "    print(cm)\n",
        "\n",
        "    plt.imshow(cm, interpolation='nearest', cmap=cmap)\n",
        "    plt.title(title)\n",
        "    plt.colorbar()\n",
        "    tick_marks = np.arange(len(classes))\n",
        "    plt.xticks(tick_marks, classes, rotation=45)\n",
        "    plt.yticks(tick_marks, classes)\n",
        "\n",
        "    fmt = '.2f' if normalize else 'd'\n",
        "    thresh = cm.max() / 2.\n",
        "    for i, j in itertools.product(range(cm.shape[0]), range(cm.shape[1])):\n",
        "        plt.text(j, i, format(cm[i, j], fmt),\n",
        "                 horizontalalignment=\"center\",\n",
        "                 color=\"white\" if cm[i, j] > thresh else \"black\")\n",
        "\n",
        "    plt.ylabel('True label')\n",
        "    plt.xlabel('Predicted label')\n",
        "    plt.tight_layout()\n",
        "\n",
        "\n"
      ],
      "execution_count": null,
      "outputs": []
    },
    {
      "cell_type": "code",
      "metadata": {
        "trusted": true,
        "_uuid": "8d499136cdb5fdf356515beb6e0cd1130ed584db",
        "id": "8Rn7k2Wf_GA0"
      },
      "source": [
        "test_labels.shape"
      ],
      "execution_count": null,
      "outputs": []
    },
    {
      "cell_type": "code",
      "metadata": {
        "trusted": true,
        "_uuid": "940b71bb2b37d847ba81dd67ca50c7fd5785fd35",
        "id": "WE5Ul1_g_GA2"
      },
      "source": [
        "# argmax returns the index of the max value in a row\n",
        "cm = confusion_matrix(test_labels, predictions.argmax(axis=1))"
      ],
      "execution_count": null,
      "outputs": []
    },
    {
      "cell_type": "code",
      "metadata": {
        "trusted": true,
        "_uuid": "97c6b493c368ff6565782c1bb15827f5d349ef79",
        "id": "fkxW6a37_GA5"
      },
      "source": [
        "test_batches.class_indices"
      ],
      "execution_count": null,
      "outputs": []
    },
    {
      "cell_type": "code",
      "metadata": {
        "trusted": true,
        "_uuid": "0ddbd33a93468075c64ba49188a6d272a5c7828f",
        "id": "8LYLfxdC_GA8"
      },
      "source": [
        "# Define the labels of the class indices. These need to match the \n",
        "# order shown above.\n",
        "cm_plot_labels = ['akiec', 'bcc', 'bkl', 'df', 'mel','nv', 'vasc']\n",
        "\n",
        "plot_confusion_matrix(cm, cm_plot_labels, title='Confusion Matrix')"
      ],
      "execution_count": null,
      "outputs": []
    },
    {
      "cell_type": "code",
      "metadata": {
        "trusted": true,
        "_uuid": "4c46f3f1d257241f96b4aac7eb96831ff8bbea33",
        "id": "THmzg-Ar_GA-"
      },
      "source": [
        "# End of Model Building\n",
        "### ===================================================================================== ###\n",
        "# Convert the Model from Keras to Tensorflow.js"
      ],
      "execution_count": null,
      "outputs": []
    },
    {
      "cell_type": "markdown",
      "metadata": {
        "_uuid": "7f9017d69bf0b84522e34841c1876b613cae1535",
        "id": "y6VqkhKu_GBA"
      },
      "source": [
        "### Install Tensorflow.js"
      ]
    },
    {
      "cell_type": "code",
      "metadata": {
        "trusted": true,
        "_uuid": "2da93a52657b786a8eb7a0d5df6d6a2bcbd0f1c6",
        "_kg_hide-output": true,
        "id": "kV_hihdZ_GBB"
      },
      "source": [
        "!pip install tensorflowjs"
      ],
      "execution_count": null,
      "outputs": []
    },
    {
      "cell_type": "markdown",
      "metadata": {
        "_uuid": "a85d7889e2bada2ebe3b84fc1571a89b1a66b7b0",
        "id": "mqI-2MpY_GBD"
      },
      "source": [
        "### Convert the model\n",
        "Note: Do not load a saved model and try to convert it. It will not work."
      ]
    },
    {
      "cell_type": "code",
      "metadata": {
        "trusted": true,
        "_uuid": "9977179251a2feb129a946028fb74d30b9eb7341",
        "id": "wLKa0vRk_GBE"
      },
      "source": [
        "# create a directory to store the model files\n",
        "os.mkdir('tfjs_dir')\n",
        "\n",
        "# convert to Tensorflow.js\n",
        "import tensorflowjs as tfjs\n",
        "\n",
        "tfjs.converters.save_keras_model(model, 'tfjs_dir')"
      ],
      "execution_count": null,
      "outputs": []
    },
    {
      "cell_type": "code",
      "metadata": {
        "trusted": true,
        "_uuid": "7df391a2792ddfb7fa2a980776aeac744612f702",
        "id": "2wokci79_GBG"
      },
      "source": [
        "# check the the directory containing the model is available\n",
        "!ls"
      ],
      "execution_count": null,
      "outputs": []
    },
    {
      "cell_type": "code",
      "metadata": {
        "trusted": true,
        "_uuid": "71dd9a6a021d4ffcc159dafd52e7f86ecc6558cb",
        "id": "E2CH_aLV_GBI"
      },
      "source": [
        "# view the files that make up the tensorflow.js model\n",
        "os.listdir('tfjs_dir')"
      ],
      "execution_count": null,
      "outputs": []
    },
    {
      "cell_type": "code",
      "metadata": {
        "trusted": true,
        "_uuid": "f774cd15c6de188d4bb150f25ab600e5cbc06031",
        "id": "cS9i_RB2_GBQ"
      },
      "source": [
        "# Delete the image data directory we created to prevent a Kaggle error.\n",
        "# Kaggle allows a max of 500 files to be saved.\n",
        "\n",
        "shutil.rmtree('base_dir')"
      ],
      "execution_count": null,
      "outputs": []
    },
    {
      "cell_type": "markdown",
      "metadata": {
        "trusted": true,
        "_uuid": "4b6056bb27006ebc85fb54bbc8b9b989bd756ff1",
        "id": "IHJbyFNc_GBR"
      },
      "source": [
        "### Resources\n",
        "\n",
        "These are some resources that I used:"
      ]
    },
    {
      "cell_type": "markdown",
      "metadata": {
        "_uuid": "d5f5d88e7cda18fb86c7e9715e488536e4424673",
        "id": "HL_9ePLU_GBT"
      },
      "source": [
        "1. Excellent tutorial series by deeplizard on how to use Mobilenet with Tensorflow.js<br>\n",
        "https://www.youtube.com/watch?v=HEQDRWMK6yY\n",
        "\n",
        "2. Tutorial by Minsuk Heo on Accuracy, Precision and F1 Score<br>\n",
        "https://www.youtube.com/watch?v=HBi-P5j0Kec\n",
        "\n",
        "3. Tutorial by Data School on how to evaluate a classifier<br>\n",
        "https://www.youtube.com/watch?v=85dtiMz9tSo\n",
        "\n",
        "3. Tensorflow.js gallery of projects<br>\n",
        "https://github.com/tensorflow/tfjs/blob/master/GALLERY.md\n",
        "\n"
      ]
    },
    {
      "cell_type": "markdown",
      "metadata": {
        "_uuid": "55623033f552beec0101f2d8241c122404b1f82f",
        "id": "koPpcJ5N_GBT"
      },
      "source": [
        "### Conclusion"
      ]
    },
    {
      "cell_type": "markdown",
      "metadata": {
        "_uuid": "8d99df295cd21dfd7f15176a35eabd1ed0d41cdb",
        "id": "f_SxqzEZ_GBT"
      },
      "source": [
        "Thanks google colab for the free GPU.\n",
        "\n",
        "Thank you for reading. "
      ]
    },
    {
      "cell_type": "code",
      "metadata": {
        "trusted": true,
        "_uuid": "ffb96375ce44ef009192bf6ddb44f6eb53a43838",
        "id": "qoPDyhjO_GBU"
      },
      "source": [
        ""
      ],
      "execution_count": null,
      "outputs": []
    }
  ]
}